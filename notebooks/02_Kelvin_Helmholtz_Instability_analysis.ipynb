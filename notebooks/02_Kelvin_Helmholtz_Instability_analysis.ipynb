{
 "cells": [
  {
   "cell_type": "markdown",
   "metadata": {},
   "source": [
    "# Kelvin-Helmholtz Instability with SPH (Continued)\n",
    "\n",
    "By now you should have run a simulation and got a reasonable number of snapshots in the output. This notebook will now ingest those outputs and \n",
    "\n",
    "## What we'll do in this notebook\n",
    "\n",
    "1. **Visualize the results** and create movies\n",
    "2. **Explore different solvers/parameters** to see how they affect the instability growth\n",
    "\n",
    "Let's get started!"
   ]
  },
  {
   "cell_type": "code",
   "execution_count": 1,
   "metadata": {},
   "outputs": [],
   "source": [
    "# Import necessary libraries\n",
    "import numpy as np\n",
    "import matplotlib.pyplot as plt\n",
    "import h5py\n",
    "import unyt\n",
    "from swiftsimio import load\n",
    "\n",
    "# Set up plotting\n",
    "plt.style.use('default')\n",
    "plt.rcParams['figure.figsize'] = [10, 8]\n",
    "plt.rcParams['font.size'] = 12"
   ]
  },
  {
   "cell_type": "markdown",
   "metadata": {},
   "source": [
    "## 1. Analysis and Visualization\n",
    "\n",
    "Let's create some analysis functions that work whether or not you've run the simulation:"
   ]
  },
  {
   "cell_type": "code",
   "execution_count": 2,
   "metadata": {},
   "outputs": [],
   "source": [
    "def plot_gas_snapshot(filename, title=\"\", save_path=None):\n",
    "    \"\"\"\n",
    "    Load a SWIFT snapshot (gas only) with swiftsimio and make simple scatter plots:\n",
    "      - Density-coloured positions if density exists, else plain positions\n",
    "      - X-velocity\n",
    "      - Velocity magnitude\n",
    "    \"\"\"\n",
    "    ds = load(filename)\n",
    "    gas = ds.gas\n",
    "\n",
    "    # Convert to plain numpy in common units\n",
    "    pos = gas.coordinates.to(\"kpc\").value                 # (N, 3)\n",
    "    vel = gas.velocities.to(\"km/s\").value                 # (N, 3)\n",
    "    dens = gas.density.to(\"g/cm**3\").value if hasattr(gas, \"density\") else None\n",
    "    time_Gyr = float(ds.metadata.time.to(\"Gyr\"))\n",
    "\n",
    "    fig, axes = plt.subplots(1, 3, figsize=(18, 5))\n",
    "\n",
    "    # Panel 1: density (or fallback to positions)\n",
    "    if dens is not None:\n",
    "        im1 = axes[0].scatter(pos[:, 0], pos[:, 1],\n",
    "                              c=np.log10(dens + 1e-99), s=2, cmap=\"viridis\")\n",
    "        axes[0].set_title(f\"log10 Density (t={time_Gyr:.3f} Gyr)\")\n",
    "        plt.colorbar(im1, ax=axes[0], label=\"log10(g cm$^{-3}$)\")\n",
    "    else:\n",
    "        axes[0].scatter(pos[:, 0], pos[:, 1], s=1, alpha=0.6)\n",
    "        axes[0].set_title(f\"Gas positions (t={time_Gyr:.3f} Gyr)\")\n",
    "\n",
    "    axes[0].set_xlabel(\"x [kpc]\")\n",
    "    axes[0].set_ylabel(\"y [kpc]\")\n",
    "    axes[0].set_aspect(\"equal\")\n",
    "\n",
    "    # Panel 2: x-velocity\n",
    "    im2 = axes[1].scatter(pos[:, 0], pos[:, 1], c=vel[:, 0], s=2, cmap=\"RdBu_r\")\n",
    "    axes[1].set_title(\"X-Velocity\")\n",
    "    axes[1].set_xlabel(\"x [kpc]\")\n",
    "    axes[1].set_ylabel(\"y [kpc]\")\n",
    "    axes[1].set_aspect(\"equal\")\n",
    "    plt.colorbar(im2, ax=axes[1], label=\"km s$^{-1}$\")\n",
    "\n",
    "    # Panel 3: velocity magnitude (2D plane)\n",
    "    vel_mag = np.sqrt(vel[:, 0]**2 + vel[:, 1]**2)\n",
    "    im3 = axes[2].scatter(pos[:, 0], pos[:, 1], c=vel_mag, s=2, cmap=\"plasma\")\n",
    "    axes[2].set_title(\"Velocity Magnitude\")\n",
    "    axes[2].set_xlabel(\"x [kpc]\")\n",
    "    axes[2].set_ylabel(\"y [kpc]\")\n",
    "    axes[2].set_aspect(\"equal\")\n",
    "    plt.colorbar(im3, ax=axes[2], label=\"km s$^{-1}$\")\n",
    "\n",
    "    if title:\n",
    "        fig.suptitle(title, fontsize=16)\n",
    "    plt.tight_layout()\n",
    "\n",
    "    if save_path:\n",
    "        plt.savefig(save_path, dpi=150, bbox_inches=\"tight\")\n",
    "    plt.show()\n"
   ]
  },
  {
   "cell_type": "markdown",
   "metadata": {},
   "source": [
    "## 7. Loading and Analyzing Simulation Results\n",
    "\n",
    "If the simulation ran successfully, let's load and analyze the results:"
   ]
  },
  {
   "cell_type": "code",
   "execution_count": null,
   "metadata": {},
   "outputs": [
    {
     "name": "stdout",
     "output_type": "stream",
     "text": [
      "No snapshot files found. Is the path correct?\n"
     ]
    }
   ],
   "source": [
    "import glob\n",
    "\n",
    "# Look for snapshot files\n",
    "run_name = \"GADGET2\"\n",
    "snapshot_files = sorted(glob.glob(f'../runs/{run_name}/kelvin_helmholtz_*.hdf5'))\n",
    "\n",
    "if snapshot_files:\n",
    "    print(f\"Found {len(snapshot_files)} snapshot files\")\n",
    "    \n",
    "    # Load and plot a few snapshots\n",
    "    snapshot_indices = [0, len(snapshot_files)//4, len(snapshot_files)//2, -1]\n",
    "    \n",
    "    for i in snapshot_indices:\n",
    "        if i < len(snapshot_files):\n",
    "            print(f\"\\nLoading snapshot {i}: {snapshot_files[i]}\")\n",
    "            snapshot_data = load_swift_snapshot(snapshot_files[i])\n",
    "            if snapshot_data:\n",
    "                plot_snapshot(snapshot_data, \n",
    "                             f\"Kelvin-Helmholtz Instability Evolution\")\n",
    "else:\n",
    "    print(\"No snapshot files found. Is the path correct?\")"
   ]
  },
  {
   "cell_type": "markdown",
   "metadata": {},
   "source": [
    "## Summary and Next Steps\n",
    "\n",
    "In this notebook, we've:\n",
    "\n",
    "1. **Learned about the Kelvin-Helmholtz instability** - its physical origin and importance\n",
    "2. **Generated initial conditions** with two fluid layers and velocity shear\n",
    "3. **Created SWIFT-compatible files** for running SPH simulations\n",
    "4. **Set up parameter files** for the simulation\n",
    "5. **Developed analysis and visualization tools**\n",
    "6. **Explored parameter variations** and their effects\n",
    "\n",
    "### Key Physics Insights:\n",
    "- The Kelvin-Helmholtz instability grows from small perturbations in shear flows\n",
    "- Density contrasts can stabilize or destabilize the interface\n",
    "- The characteristic \"cat's eye\" structures develop from the velocity shear\n",
    "\n",
    "### Next Steps:\n",
    "1. **Run the simulation** with SWIFT if you have it installed\n",
    "2. **Experiment with different parameters** - try higher density contrasts, different perturbation wavelengths\n",
    "3. **Add physical effects** - viscosity, cooling, magnetic fields\n",
    "4. **Move to 3D** - the instability has rich 3D structure\n",
    "\n",
    "### Challenges to Try:\n",
    "- Implement multi-wavelength perturbations\n",
    "- Add a background flow\n",
    "- Try different density profiles (gradual vs sharp interfaces)\n",
    "- Compare with linear stability theory predictions\n",
    "\n",
    "The Kelvin-Helmholtz instability is fundamental to many astrophysical phenomena, from planetary atmospheres to accretion disk flows. Understanding its behavior in SPH simulations is crucial for modeling real astrophysical systems!"
   ]
  },
  {
   "cell_type": "code",
   "execution_count": null,
   "metadata": {},
   "outputs": [],
   "source": []
  }
 ],
 "metadata": {
  "kernelspec": {
   "display_name": "synthesizer-env",
   "language": "python",
   "name": "python3"
  },
  "language_info": {
   "codemirror_mode": {
    "name": "ipython",
    "version": 3
   },
   "file_extension": ".py",
   "mimetype": "text/x-python",
   "name": "python",
   "nbconvert_exporter": "python",
   "pygments_lexer": "ipython3",
   "version": "3.10.13"
  }
 },
 "nbformat": 4,
 "nbformat_minor": 4
}
