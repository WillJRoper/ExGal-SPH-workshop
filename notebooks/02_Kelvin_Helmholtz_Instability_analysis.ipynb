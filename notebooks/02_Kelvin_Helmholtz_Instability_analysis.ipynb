{
 "cells": [
  {
   "cell_type": "markdown",
   "metadata": {},
   "source": [
    "# Kelvin-Helmholtz Instability with SPH (Continued)\n",
    "\n",
    "By now you should have run a simulation and got a reasonable number of snapshots in the output. This notebook will now ingest those outputs and \n",
    "\n",
    "## What we'll do in this notebook\n",
    "\n",
    "1. **Visualize the results** and create movies\n",
    "2. **Explore different solvers/parameters** to see how they affect the instability growth\n",
    "\n",
    "Let's get started!"
   ]
  },
  {
   "cell_type": "code",
   "execution_count": null,
   "metadata": {},
   "outputs": [],
   "source": [
    "# Import necessary libraries\n",
    "import os\n",
    "import numpy as np\n",
    "from matplotlib.colors import LogNorm\n",
    "import matplotlib.pyplot as plt\n",
    "import h5py\n",
    "import unyt\n",
    "from unyt import msun, kpc, km, s\n",
    "\n",
    "from swiftsimio import load\n",
    "from swiftsimio.visualisation.projection import project_gas\n",
    "\n",
    "\n",
    "# Set up plotting\n",
    "plt.style.use('default')\n",
    "plt.rcParams['figure.figsize'] = [10, 8]\n",
    "plt.rcParams['font.size'] = 12"
   ]
  },
  {
   "cell_type": "markdown",
   "metadata": {},
   "source": [
    "## 1. Analysis and Visualization\n",
    "\n",
    "Let's create some analysis functions that work whether or not you've run the simulation:"
   ]
  },
  {
   "cell_type": "code",
   "execution_count": null,
   "metadata": {},
   "outputs": [],
   "source": [
    "def plot_gas_snapshot(filename, ind, title=\"\"):\n",
    "    \"\"\"\n",
    "    Load a SWIFT snapshot (gas only) and make 3 projection panels:\n",
    "      1) Surface density (Msun/kpc^2)\n",
    "      2) Mass-weighted <v_x> (km/s)\n",
    "      3) Mass-weighted <|v|> in xy-plane (km/s)\n",
    "\n",
    "    Saves to: plots/kelvin_helmholtz_{ind}.png\n",
    "    \"\"\"\n",
    "    os.makedirs(\"plots\", exist_ok=True)\n",
    "\n",
    "    ds = load(filename)\n",
    "    gas = ds.gas\n",
    "    time_Gyr = float(ds.metadata.time.to(\"Gyr\"))\n",
    "\n",
    "    # Define mass-weighted fields\n",
    "    vx = gas.velocities[:, 0]             # km/s\n",
    "    vy = gas.velocities[:, 1]\n",
    "    speed_xy = (vx**2 + vy**2)**0.5       # km/s\n",
    "\n",
    "    gas.mass_weighted_vx = gas.masses * vx\n",
    "    gas.mass_weighted_speed_xy = gas.masses * speed_xy\n",
    "\n",
    "    # Project to 2D maps\n",
    "    kwargs = dict(data=ds, resolution=512, periodic=True)\n",
    "    mass_map = project_gas(project=\"masses\", **kwargs).to_physical_value(msun / kpc**2)\n",
    "    mw_vx_map = project_gas(project=\"mass_weighted_vx\", **kwargs).to_physical_value(msun * km / (s * kpc**2))\n",
    "    mw_speed_map = project_gas(project=\"mass_weighted_speed_xy\", **kwargs).to_physical_value(msun * km / (s * kpc**2))\n",
    "\n",
    "    # Convert to floats and do safe division\n",
    "    mass = np.array(mass_map)\n",
    "    vx_map = np.zeros_like(mass)\n",
    "    speed_map = np.zeros_like(mass)\n",
    "\n",
    "    mask = mass > 0\n",
    "    vx_map[mask] = mw_vx_map[mask] / mass[mask]\n",
    "    speed_map[mask] = mw_speed_map[mask] / mass[mask]\n",
    "\n",
    "    # Plotting\n",
    "    fig, axes = plt.subplots(1, 3, figsize=(18, 5))\n",
    "    Lx, Ly = ds.metadata.boxsize.to(\"kpc\").value[:2]\n",
    "    extent = [0.0, Lx, 0.0, Ly]\n",
    "\n",
    "    # Panel 1: log surface density\n",
    "    im1 = axes[0].imshow(\n",
    "        mass,\n",
    "        norm=LogNorm(),\n",
    "        origin=\"lower\",\n",
    "        extent=extent,\n",
    "        aspect=\"equal\",\n",
    "        cmap=\"viridis\",\n",
    "    )\n",
    "    axes[0].set_title(f\"Surface density (t={time_Gyr:.3f} Gyr)\")\n",
    "    axes[0].set_xlabel(\"x [kpc]\")\n",
    "    axes[0].set_ylabel(\"y [kpc]\")\n",
    "    plt.colorbar(im1, ax=axes[0], label=r\"$\\Sigma_{\\rm gas}$ [M$_\\odot$/kpc$^2$]\")\n",
    "\n",
    "    # Panel 2: mass-weighted <v_x>\n",
    "    im2 = axes[1].imshow(\n",
    "        vx_map,\n",
    "        origin=\"lower\",\n",
    "        extent=extent,\n",
    "        aspect=\"equal\",\n",
    "        cmap=\"RdBu_r\",\n",
    "    )\n",
    "    axes[1].set_title(r\"Mass-weighted $\\langle v_x \\rangle$\")\n",
    "    axes[1].set_xlabel(\"x [kpc]\")\n",
    "    axes[1].set_ylabel(\"y [kpc]\")\n",
    "    plt.colorbar(im2, ax=axes[1], label=\"km s$^{-1}$\")\n",
    "\n",
    "    # Panel 3: mass-weighted <|v|> (xy)\n",
    "    im3 = axes[2].imshow(\n",
    "        speed_map,\n",
    "        origin=\"lower\",\n",
    "        extent=extent,\n",
    "        aspect=\"equal\",\n",
    "        cmap=\"plasma\",\n",
    "    )\n",
    "    axes[2].set_title(r\"Mass-weighted $\\langle |v| \\rangle$ (xy)\")\n",
    "    axes[2].set_xlabel(\"x [kpc]\")\n",
    "    axes[2].set_ylabel(\"y [kpc]\")\n",
    "    plt.colorbar(im3, ax=axes[2], label=\"km s$^{-1}$\")\n",
    "\n",
    "    if title:\n",
    "        fig.suptitle(title, fontsize=16)\n",
    "\n",
    "    plt.tight_layout()\n",
    "    plt.savefig(f\"plots/kelvin_helmholtz_{ind}.png\", dpi=150, bbox_inches=\"tight\")\n",
    "    plt.show()\n"
   ]
  },
  {
   "cell_type": "markdown",
   "metadata": {},
   "source": [
    "## 7. Loading and Analyzing Simulation Results\n",
    "\n",
    "If the simulation ran successfully, let's load and analyze the results:"
   ]
  },
  {
   "cell_type": "code",
   "execution_count": 9,
   "metadata": {},
   "outputs": [
    {
     "name": "stdout",
     "output_type": "stream",
     "text": [
      "No snapshot files found. Is the path correct?\n"
     ]
    }
   ],
   "source": [
    "import glob\n",
    "\n",
    "# Look for snapshot files\n",
    "run_name = \"GADGET2\"\n",
    "snapshot_files = sorted(glob.glob(f'../runs/{run_name}/kelvin_helmholtz_*.hdf5'))\n",
    "\n",
    "if snapshot_files:\n",
    "    print(f\"Found {len(snapshot_files)} snapshot files\")\n",
    "    \n",
    "    for i, snap in enumerate(snapshot_files):\n",
    "        print(f\"\\nLoading snapshot {i}: {snap}\")\n",
    "        plot_gas_snapshot(snap, i, title=f\"GADGET2: Snapshot {i}\")\n",
    "else:\n",
    "    print(\"No snapshot files found. Is the path correct?\")"
   ]
  }
 ],
 "metadata": {
  "kernelspec": {
   "display_name": "synthesizer-env",
   "language": "python",
   "name": "python3"
  },
  "language_info": {
   "codemirror_mode": {
    "name": "ipython",
    "version": 3
   },
   "file_extension": ".py",
   "mimetype": "text/x-python",
   "name": "python",
   "nbconvert_exporter": "python",
   "pygments_lexer": "ipython3",
   "version": "3.10.13"
  }
 },
 "nbformat": 4,
 "nbformat_minor": 4
}
